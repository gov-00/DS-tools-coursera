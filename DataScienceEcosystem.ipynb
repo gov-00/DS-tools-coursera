{
 "cells": [
  {
   "cell_type": "markdown",
   "id": "962af31d-3c94-4009-a0ef-acd230777daa",
   "metadata": {},
   "source": [
    "# Data Science Tools and Ecosystem"
   ]
  },
  {
   "cell_type": "markdown",
   "id": "760739f7-3acc-4de7-b9ac-963a5013c674",
   "metadata": {},
   "source": [
    "## In this notebook, Data Science Tools and Ecosystem are summarized."
   ]
  },
  {
   "cell_type": "markdown",
   "id": "a9f05fac-c3b6-49e6-adb1-8692fa566306",
   "metadata": {},
   "source": [
    "**Objectives:**\n",
    "- List of popular languages\n",
    "- List of popular libraries\n",
    "- Table of popular tools\n",
    "- Some arithmetic operations"
   ]
  },
  {
   "cell_type": "markdown",
   "id": "aea466e8-d26a-4485-93a0-73c3931a6ffb",
   "metadata": {},
   "source": [
    "Some of the popular languages that Data Scientists use are:\n",
    "1. Python\n",
    "2. R\n",
    "3. SQL\n",
    "4. Javascript"
   ]
  },
  {
   "cell_type": "markdown",
   "id": "7c13bc36-302a-4f70-8490-1744c574b8e2",
   "metadata": {},
   "source": [
    "Some of the commonly used libraries used by Data Scientists include:\n",
    "1. Pandas\n",
    "2. Numpy\n",
    "3. Keras\n",
    "4. Scikit-learn\n"
   ]
  },
  {
   "cell_type": "markdown",
   "id": "12e3d4df-17d5-4245-895e-c31a14653340",
   "metadata": {},
   "source": [
    "|Data Science Tools|\n",
    "|------------------|\n",
    "|R studio |\n",
    "|Apache Sparks|\n",
    "|Tensor flow|\n"
   ]
  },
  {
   "cell_type": "markdown",
   "id": "b5b8c85f-2caa-42b7-94f7-10f0be355e07",
   "metadata": {},
   "source": [
    "### Below are a few examples of evaluating arithmetic expressions in Python"
   ]
  },
  {
   "cell_type": "code",
   "execution_count": 1,
   "id": "2abe9987-63ac-4a39-adf4-2dd37038f92e",
   "metadata": {
    "tags": []
   },
   "outputs": [
    {
     "data": {
      "text/plain": [
       "17"
      ]
     },
     "execution_count": 1,
     "metadata": {},
     "output_type": "execute_result"
    }
   ],
   "source": [
    "(3*4)+5\n",
    "#This a simple arithmetic expression to mutiply then add integers"
   ]
  },
  {
   "cell_type": "code",
   "execution_count": 2,
   "id": "55b53138-4e06-4534-a136-69d75a2760c4",
   "metadata": {
    "tags": []
   },
   "outputs": [
    {
     "name": "stdout",
     "output_type": "stream",
     "text": [
      "time in hrs:mins =  3 : 20\n"
     ]
    }
   ],
   "source": [
    "#This will convert 200 minutes to hours by diving by 60\n",
    "time = 200\n",
    "hours = time // 60\n",
    "minutes = time % 60\n",
    "\n",
    "print (\"time in hrs:mins = \", hours, \":\", minutes)\n"
   ]
  },
  {
   "cell_type": "markdown",
   "id": "582ed08b-04dc-4391-87cd-653e50bb962d",
   "metadata": {},
   "source": [
    "## Author\n",
    "Govinda Das"
   ]
  },
  {
   "cell_type": "code",
   "execution_count": null,
   "id": "d2784e6d-d79f-4d02-9854-533c09cca292",
   "metadata": {},
   "outputs": [],
   "source": []
  }
 ],
 "metadata": {
  "kernelspec": {
   "display_name": "Python",
   "language": "python",
   "name": "conda-env-python-py"
  },
  "language_info": {
   "codemirror_mode": {
    "name": "ipython",
    "version": 3
   },
   "file_extension": ".py",
   "mimetype": "text/x-python",
   "name": "python",
   "nbconvert_exporter": "python",
   "pygments_lexer": "ipython3",
   "version": "3.7.12"
  }
 },
 "nbformat": 4,
 "nbformat_minor": 5
}
